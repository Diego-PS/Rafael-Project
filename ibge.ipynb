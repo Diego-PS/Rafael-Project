{
 "cells": [
  {
   "cell_type": "code",
   "execution_count": 17,
   "metadata": {},
   "outputs": [],
   "source": [
    "import os\n",
    "\n",
    "directory = './amcr/ibge_ppp'\n",
    "\n",
    "files = os.listdir(directory)\n",
    "#print(files)"
   ]
  },
  {
   "cell_type": "code",
   "execution_count": 18,
   "metadata": {},
   "outputs": [
    {
     "data": {
      "text/plain": [
       "53"
      ]
     },
     "execution_count": 18,
     "metadata": {},
     "output_type": "execute_result"
    }
   ],
   "source": [
    "import csv\n",
    "\n",
    "# open the file in the write mode\n",
    "csv_f = open('ibge.csv', 'w', encoding='utf-8')\n",
    "\n",
    "# create the csv writer\n",
    "writer = csv.writer(csv_f)\n",
    "\n",
    "# write a row to the csv file\n",
    "writer.writerow(['estação', 'data', 'duração', 'X', 'Y', 'Z', 'sigmaX', 'sigmaY', 'sigmaZ', 'IAR'])"
   ]
  },
  {
   "cell_type": "code",
   "execution_count": 19,
   "metadata": {},
   "outputs": [],
   "source": [
    "i = 0\n",
    "for file in files:\n",
    "    \n",
    "    treated_file = file\n",
    "    while (ord('a') <= ord(treated_file[0]) and ord(treated_file[0]) <= ord('z')) or (ord('A') <= ord(treated_file[0]) and ord(treated_file[0]) <= ord('Z')):\n",
    "        treated_file = treated_file[1:]\n",
    "    \n",
    "    date = treated_file[:3]\n",
    "    date = int(date)\n",
    "    #print(date)\n",
    "\n",
    "    p1, p2 = file.split('_')\n",
    "    duration, more, file_format = p2.split('.')\n",
    "    duration = int(duration)\n",
    "    #print(duration)\n",
    "\n",
    "    files[i] = (date, duration, file)\n",
    "    i+=1\n",
    "\n",
    "files.sort()\n",
    "#print(files)"
   ]
  },
  {
   "cell_type": "code",
   "execution_count": 4,
   "metadata": {},
   "outputs": [],
   "source": [
    "for file_tuple in files:\n",
    "    date, duration, file = file_tuple\n",
    "    f = open(directory+'/'+file, 'r', encoding='latin-1')\n",
    "    message = f.read()\n",
    "\n",
    "    f.close()\n",
    "    lines = message.split('\\n')\n",
    "\n",
    "    section3_2index = lines.index(' 3.2 Sessao Observada')\n",
    "    station_line_idx = section3_2index+2\n",
    "    station_line = lines[station_line_idx]\n",
    "    station_line = station_line.split()\n",
    "\n",
    "    section3_3index = lines.index(' 3.3 Coordenadas Estimadas na Data do Levantamento')\n",
    "    X_line_idx = section3_3index+5\n",
    "    Y_line_idx = section3_3index+6\n",
    "    Z_line_idx = section3_3index+7\n",
    "    \n",
    "    X_line = lines[X_line_idx]\n",
    "    X_line = X_line.split()\n",
    "    \n",
    "    Y_line = lines[Y_line_idx]\n",
    "    Y_line = Y_line.split()\n",
    "\n",
    "    Z_line = lines[Z_line_idx]\n",
    "    Z_line = Z_line.split()\n",
    "\n",
    "    csv_row = [station_line[4], str(date), str(duration), X_line[3], Y_line[3], Z_line[3], X_line[4], Y_line[4], Z_line[4], '']\n",
    "    writer.writerow(csv_row)\n",
    "\n",
    "csv_f.close()"
   ]
  },
  {
   "cell_type": "code",
   "execution_count": null,
   "metadata": {},
   "outputs": [],
   "source": []
  }
 ],
 "metadata": {
  "interpreter": {
   "hash": "916dbcbb3f70747c44a77c7bcd40155683ae19c65e1c03b4aa3499c5328201f1"
  },
  "kernelspec": {
   "display_name": "Python 3.9.7 64-bit",
   "language": "python",
   "name": "python3"
  },
  "language_info": {
   "codemirror_mode": {
    "name": "ipython",
    "version": 3
   },
   "file_extension": ".py",
   "mimetype": "text/x-python",
   "name": "python",
   "nbconvert_exporter": "python",
   "pygments_lexer": "ipython3",
   "version": "3.9.7"
  },
  "orig_nbformat": 4
 },
 "nbformat": 4,
 "nbformat_minor": 2
}
